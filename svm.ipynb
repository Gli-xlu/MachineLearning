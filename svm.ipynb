{
 "cells": [
  {
   "cell_type": "code",
   "execution_count": 1,
   "metadata": {},
   "outputs": [
    {
     "name": "stdout",
     "output_type": "stream",
     "text": [
      "pygame 2.0.0 (SDL 2.0.12, python 3.7.3)\n",
      "Hello from the pygame community. https://www.pygame.org/contribute.html\n"
     ]
    }
   ],
   "source": [
    "import pandas as pd\n",
    "import numpy as np\n",
    "import matplotlib.pyplot as plt\n",
    "import pygame as pg\n",
    "from sklearn import svm"
   ]
  },
  {
   "cell_type": "code",
   "execution_count": 43,
   "metadata": {},
   "outputs": [],
   "source": [
    "data = []\n",
    "cluster = []\n",
    "pg.init()\n",
    "WHITE = (255, 255, 255)\n",
    "BLUE = (0, 0, 225)\n",
    "sc = pg.display.set_mode((400, 300))\n",
    "sc.fill(WHITE)\n",
    "pg.display.update()\n",
    "\n",
    "play = True\n",
    "while play:\n",
    "    for i in pg.event.get():\n",
    "        if i.type == pg.QUIT:\n",
    "            pg.quit()\n",
    "            play = False\n",
    "        if i.type == pg.MOUSEBUTTONDOWN:\n",
    "            if i.button == 1:\n",
    "                data.append([i.pos[0], i.pos[1]])\n",
    "                cluster.append(1)\n",
    "                pg.draw.circle(sc, (255,0,0), i.pos, 10)\n",
    "                pg.display.update()\n",
    "            if i.button == 3:\n",
    "                data.append([i.pos[0], i.pos[1]])\n",
    "                cluster.append(-1)\n",
    "                pg.draw.circle(sc, (0,255,0), i.pos, 10)\n",
    "                pg.display.update()\n",
    "        if i.type == pg.KEYDOWN:\n",
    "            if i.key == pg.K_RIGHT:\n",
    "                model = svm.SVC(kernel='linear', C=1.0)\n",
    "                model.fit(data, cluster)\n",
    "                W=model.coef_[0]\n",
    "                I=model.intercept_\n",
    "                a = -W[0]/W[1]\n",
    "                b = I[0]/W[1]\n",
    "                y11 = -b\n",
    "                x11 = b/a\n",
    "                y12 = 1/W[1] - b \n",
    "                x22 = 1/W[0] + b/a\n",
    "                y13 = -1/W[1] - b\n",
    "                x23 = -1/W[0] + b/a\n",
    "                pg.draw.aaline(sc, (0,0,0), [0, y12], [x22, 0])\n",
    "                pg.draw.aaline(sc, (0,0,0), [0, y13], [x23, 0])\n",
    "                pg.draw.line(sc, (0,0,0), [0, y11], [x11, 0], 2)\n",
    "                pg.display.update()"
   ]
  },
  {
   "cell_type": "markdown",
   "metadata": {},
   "source": [
    "Вывод"
   ]
  },
  {
   "attachments": {
    "%D0%A1%D0%BD%D0%B8%D0%BC%D0%BE%D0%BA1.PNG": {
     "image/png": "[encoded data removed]"
    }
   },
   "cell_type": "markdown",
   "metadata": {},
   "source": [
    "![%D0%A1%D0%BD%D0%B8%D0%BC%D0%BE%D0%BA1.PNG](attachment:%D0%A1%D0%BD%D0%B8%D0%BC%D0%BE%D0%BA1.PNG)"
   ]
  },
  {
   "cell_type": "code",
   "execution_count": null,
   "metadata": {},
   "outputs": [],
   "source": []
  }
 ],
 "metadata": {
  "kernelspec": {
   "display_name": "Python 3",
   "language": "python",
   "name": "python3"
  },
  "language_info": {
   "codemirror_mode": {
    "name": "ipython",
    "version": 3
   },
   "file_extension": ".py",
   "mimetype": "text/x-python",
   "name": "python",
   "nbconvert_exporter": "python",
   "pygments_lexer": "ipython3",
   "version": "3.7.3"
  }
 },
 "nbformat": 4,
 "nbformat_minor": 2
}
