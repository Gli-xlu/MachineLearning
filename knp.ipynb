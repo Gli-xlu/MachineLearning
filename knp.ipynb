{
 "cells": [
  {
   "cell_type": "code",
   "execution_count": 2,
   "metadata": {},
   "outputs": [],
   "source": [
    "import pandas as pd\n",
    "import numpy as np\n",
    "import matplotlib.pyplot as plt\n",
    "import sys\n",
    "import networkx as nx\n",
    "import matplotlib.pyplot as plt"
   ]
  },
  {
   "cell_type": "code",
   "execution_count": 3,
   "metadata": {},
   "outputs": [],
   "source": [
    "def first_connection(weight, tree):\n",
    "    connect_pnt = np.zeros(n)\n",
    "    minim = sys.maxsize\n",
    "    i_min, j_min = 0, 1\n",
    "    for i in range(n):\n",
    "        for j in range(i+1, n):\n",
    "            if minim > weight[i][j]:\n",
    "                minim = weight[i][j]\n",
    "                i_min, j_min = i, j\n",
    "    tree[i_min][j_min] = minim\n",
    "    tree[j_min][i_min] = minim\n",
    "    weight[i_min][j_min] = sys.maxsize\n",
    "    weight[j_min][i_min] = sys.maxsize\n",
    "    connect_pnt[i_min] = connect_pnt[j_min] = 1\n",
    "    return connect_pnt"
   ]
  },
  {
   "cell_type": "code",
   "execution_count": 4,
   "metadata": {},
   "outputs": [],
   "source": [
    "def lync_all(weight, tree, connect_pnt):\n",
    "    minim = sys.maxsize\n",
    "    i_min, j_min = None, None\n",
    "    for i in range(n):\n",
    "        if connect_pnt[i] == 1:\n",
    "            for j in range(n):\n",
    "                if connect_pnt[j] == 0:\n",
    "                    if minim > weight[i][j]:\n",
    "                        minim = weight[i][j]\n",
    "                        i_min, j_min = i, j\n",
    "    tree[i_min][j_min] = minim\n",
    "    tree[j_min][i_min] = minim\n",
    "    weight[i_min][j_min] = sys.maxsize\n",
    "    weight[j_min][i_min] = sys.maxsize\n",
    "    connect_pnt[i_min] = connect_pnt[j_min] = 1"
   ]
  },
  {
   "cell_type": "code",
   "execution_count": 5,
   "metadata": {},
   "outputs": [],
   "source": [
    "def delete_connection(tree):\n",
    "    maxim = 0\n",
    "    i_max, j_max = 0, 0\n",
    "    for i in range(n):\n",
    "        for j in range(i+1, n):\n",
    "            if tree[i][j] > maxim:\n",
    "                maxim = tree[i][j]\n",
    "                i_max, j_max = i, j\n",
    "    tree[i_max][j_max] = tree[j_max][i_max] = 0"
   ]
  },
  {
   "cell_type": "code",
   "execution_count": 6,
   "metadata": {},
   "outputs": [],
   "source": [
    "def cluster(cl, tree, clust_pnt): \n",
    "    clust = []\n",
    "    for i in range(n): \n",
    "        for j in range(n): \n",
    "            if tree[i][j] == 0: \n",
    "                continue\n",
    "            if len(clust) == 0:\n",
    "                clust.append(i)\n",
    "                clust.append(j)\n",
    "                tree[i][j] = tree[j][i] = 0 \n",
    "    m = clust[0]\n",
    "    old_m = -1\n",
    "    while old_m != m:\n",
    "        old_m = m\n",
    "        for j in range(n):\n",
    "            if tree[m][j] == 0: \n",
    "                continue\n",
    "            else:\n",
    "                clust.append(j)\n",
    "                tree[m][j] = tree[j][m] = 0\n",
    "                m = j\n",
    "    m = clust[1]\n",
    "    old_m = -1\n",
    "    while old_m != m:\n",
    "        old_m = m\n",
    "        for j in range(n):\n",
    "            if tree[m][j] == 0: \n",
    "                continue\n",
    "            else:\n",
    "                clust.append(j)\n",
    "                tree[m][j] = tree[j][m] = 0\n",
    "                m = j\n",
    "    for i in clust:\n",
    "        clust_pnt[i] = cl"
   ]
  },
  {
   "cell_type": "code",
   "execution_count": 7,
   "metadata": {},
   "outputs": [],
   "source": [
    "def plot_graph(tree, n):\n",
    "    G = nx.Graph(strict=False)\n",
    "    for i in range(n):\n",
    "        G.add_node(i)\n",
    "    for i in range(n):\n",
    "        for j in range(n):\n",
    "            if tree[i][j] != 0:\n",
    "                G.add_edge(i,j, weight=tree[i][j])\n",
    "                G.add_edges_from([(i, j, {'weight': tree[i][j]})])\n",
    "                tree[i][j] = tree[j][i] = 0 \n",
    "    nx.draw_circular(G, with_labels=True)\n",
    "    pos = nx.circular_layout(G)\n",
    "    edge_labels = nx.get_edge_attributes(G,'weight')\n",
    "    nx.draw_networkx_edge_labels(G, pos=pos, edge_labels = edge_labels)"
   ]
  },
  {
   "cell_type": "code",
   "execution_count": 8,
   "metadata": {},
   "outputs": [],
   "source": [
    "def knp(weight, n, k):\n",
    "    tree = [[0 for i in range(n)] for j in range(n)]\n",
    "    connect_pnt = first_connection(weight, tree)\n",
    "    while 0 in connect_pnt:\n",
    "        lync_all(weight, tree, connect_pnt)\n",
    "    for i in range(k-1):\n",
    "        delete_connection(tree)\n",
    "    clust_pnt = np.zeros(n)\n",
    "    old_tree = np.zeros((n,n))\n",
    "    for i in range(n):\n",
    "        for j in range(n):\n",
    "            old_tree[i][j] = tree[i][j]\n",
    "    for i in range(1, k):\n",
    "        cluster(i, tree, clust_pnt)\n",
    "    plot_graph(old_tree, n)\n",
    "    return clust_pnt"
   ]
  },
  {
   "cell_type": "markdown",
   "metadata": {},
   "source": [
    "Пример"
   ]
  },
  {
   "cell_type": "code",
   "execution_count": 11,
   "metadata": {},
   "outputs": [
    {
     "data": {
      "text/plain": [
       "[[0, 37, 94, 25, 95, 59, 82, 55, 3, 13],\n",
       " [37, 0, 28, 1, 49, 34, 47, 52, 44, 93],\n",
       " [94, 28, 0, 94, 5, 32, 83, 35, 9, 81],\n",
       " [25, 1, 94, 0, 72, 14, 99, 72, 38, 79],\n",
       " [95, 49, 5, 72, 0, 91, 89, 26, 14, 66],\n",
       " [59, 34, 32, 14, 91, 0, 4, 80, 56, 73],\n",
       " [82, 47, 83, 99, 89, 4, 0, 16, 35, 77],\n",
       " [55, 52, 35, 72, 26, 80, 16, 0, 31, 85],\n",
       " [3, 44, 9, 38, 14, 56, 35, 31, 0, 31],\n",
       " [13, 93, 81, 79, 66, 73, 77, 85, 31, 0]]"
      ]
     },
     "execution_count": 11,
     "metadata": {},
     "output_type": "execute_result"
    }
   ],
   "source": [
    "n, k = 10, 2\n",
    "\n",
    "weight = [[0 for i in range(n)] for j in range(n)]\n",
    "for i in range(n):\n",
    "    for j in range(i + 1, n):\n",
    "        weight[i][j] = np.random.randint(1, 100)\n",
    "        weight[j][i] = weight[i][j]\n",
    "        \n",
    "weight"
   ]
  },
  {
   "cell_type": "code",
   "execution_count": 12,
   "metadata": {},
   "outputs": [
    {
     "data": {
      "image/png": "[encoded data removed]",
      "text/plain": [
       "<Figure size 432x288 with 1 Axes>"
      ]
     },
     "metadata": {},
     "output_type": "display_data"
    }
   ],
   "source": [
    "clust_pnt = knp(weight, n, k)"
   ]
  },
  {
   "cell_type": "code",
   "execution_count": 13,
   "metadata": {},
   "outputs": [
    {
     "data": {
      "text/plain": [
       "array([1., 0., 1., 0., 1., 0., 0., 0., 1., 1.])"
      ]
     },
     "execution_count": 13,
     "metadata": {},
     "output_type": "execute_result"
    }
   ],
   "source": [
    "clust_pnt"
   ]
  },
  {
   "cell_type": "code",
   "execution_count": null,
   "metadata": {},
   "outputs": [],
   "source": []
  }
 ],
 "metadata": {
  "kernelspec": {
   "display_name": "Python 3",
   "language": "python",
   "name": "python3"
  },
  "language_info": {
   "codemirror_mode": {
    "name": "ipython",
    "version": 3
   },
   "file_extension": ".py",
   "mimetype": "text/x-python",
   "name": "python",
   "nbconvert_exporter": "python",
   "pygments_lexer": "ipython3",
   "version": "3.7.3"
  }
 },
 "nbformat": 4,
 "nbformat_minor": 2
}
