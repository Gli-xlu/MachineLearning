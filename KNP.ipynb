{
 "cells": [
  {
   "cell_type": "code",
   "execution_count": 1,
   "metadata": {},
   "outputs": [],
   "source": [
    "import pandas as pd\n",
    "import numpy as np\n",
    "import matplotlib.pyplot as plt\n",
    "import sys\n",
    "import networkx as nx\n",
    "import matplotlib.pyplot as plt"
   ]
  },
  {
   "cell_type": "code",
   "execution_count": 2,
   "metadata": {},
   "outputs": [],
   "source": [
    "def first_connection(weight, tree):\n",
    "    connect_pnt = np.zeros(n)\n",
    "    minim = sys.maxsize\n",
    "    i_min, j_min = 0, 1\n",
    "    for i in range(n):\n",
    "        for j in range(i+1, n):\n",
    "            if minim > weight[i][j]:\n",
    "                minim = weight[i][j]\n",
    "                i_min, j_min = i, j\n",
    "    tree[i_min][j_min] = minim\n",
    "    tree[j_min][i_min] = minim\n",
    "    weight[i_min][j_min] = sys.maxsize\n",
    "    weight[j_min][i_min] = sys.maxsize\n",
    "    connect_pnt[i_min] = connect_pnt[j_min] = 1\n",
    "    return connect_pnt"
   ]
  },
  {
   "cell_type": "code",
   "execution_count": 3,
   "metadata": {},
   "outputs": [],
   "source": [
    "def lync_all(weight, tree, connect_pnt):\n",
    "    minim = sys.maxsize\n",
    "    i_min, j_min = None, None\n",
    "    for i in range(n):\n",
    "        if connect_pnt[i] == 1:\n",
    "            for j in range(n):\n",
    "                if connect_pnt[j] == 0:\n",
    "                    if minim > weight[i][j]:\n",
    "                        minim = weight[i][j]\n",
    "                        i_min, j_min = i, j\n",
    "    tree[i_min][j_min] = minim\n",
    "    tree[j_min][i_min] = minim\n",
    "    weight[i_min][j_min] = sys.maxsize\n",
    "    weight[j_min][i_min] = sys.maxsize\n",
    "    connect_pnt[i_min] = connect_pnt[j_min] = 1"
   ]
  },
  {
   "cell_type": "code",
   "execution_count": 4,
   "metadata": {},
   "outputs": [],
   "source": [
    "def delete_connection(tree):\n",
    "    maxim = 0\n",
    "    i_max, j_max = 0, 0\n",
    "    for i in range(n):\n",
    "        for j in range(i+1, n):\n",
    "            if tree[i][j] > maxim:\n",
    "                maxim = tree[i][j]\n",
    "                i_max, j_max = i, j\n",
    "    tree[i_max][j_max] = tree[j_max][i_max] = 0"
   ]
  },
  {
   "cell_type": "code",
   "execution_count": 5,
   "metadata": {},
   "outputs": [],
   "source": [
    "def cluster(cl, tree, clust_pnt): \n",
    "    clust = []\n",
    "    for i in range(n): \n",
    "        for j in range(n): \n",
    "            if tree[i][j] == 0: \n",
    "                continue\n",
    "            if len(clust) == 0:\n",
    "                clust.append(i)\n",
    "                clust.append(j)\n",
    "                tree[i][j] = tree[j][i] = 0 \n",
    "            else:\n",
    "                if i in clust:\n",
    "                    clust.append(j)\n",
    "                    tree[i][j] = tree[j][i] = 0 \n",
    "                if j in clust:\n",
    "                    clust.append(i)\n",
    "                    tree[i][j] = tree[j][i] = 0 \n",
    "    for i in clust:\n",
    "        clust_pnt[i] = cl"
   ]
  },
  {
   "cell_type": "code",
   "execution_count": 6,
   "metadata": {},
   "outputs": [],
   "source": [
    "def plot_graph(tree, n):\n",
    "    G = nx.Graph(strict=False)\n",
    "    for i in range(n):\n",
    "        G.add_node(i)\n",
    "    for i in range(n):\n",
    "        for j in range(n):\n",
    "            if tree[i][j] != 0:\n",
    "                G.add_edge(i,j, weight=tree[i][j])\n",
    "                G.add_edges_from([(i, j, {'weight': tree[i][j]})])\n",
    "                tree[i][j] = tree[j][i] = 0 \n",
    "    nx.draw_circular(G, with_labels=True)\n",
    "    pos = nx.circular_layout(G)\n",
    "    edge_labels = nx.get_edge_attributes(G,'weight')\n",
    "    nx.draw_networkx_edge_labels(G, pos=pos, edge_labels = edge_labels)"
   ]
  },
  {
   "cell_type": "code",
   "execution_count": 7,
   "metadata": {},
   "outputs": [],
   "source": [
    "def knn(weight, n, k):\n",
    "    tree = [[0 for i in range(n)] for j in range(n)]\n",
    "    connect_pnt = first_connection(weight, tree)\n",
    "    while 0 in connect_pnt:\n",
    "        lync_all(weight, tree, connect_pnt)\n",
    "    for i in range(k-1):\n",
    "        delete_connection(tree)\n",
    "    clust_pnt = np.zeros(n)\n",
    "    old_tree = np.zeros((n,n))\n",
    "    for i in range(n):\n",
    "        for j in range(n):\n",
    "            old_tree[i][j] = tree[i][j]\n",
    "    for i in range(1, k):\n",
    "        cluster(i, tree, clust_pnt)\n",
    "    plot_graph(old_tree, n)\n",
    "    return clust_pnt"
   ]
  },
  {
   "cell_type": "markdown",
   "metadata": {},
   "source": [
    "Пример"
   ]
  },
  {
   "cell_type": "code",
   "execution_count": 22,
   "metadata": {},
   "outputs": [
    {
     "data": {
      "text/plain": [
       "[[0, 19, 42, 40, 36],\n",
       " [19, 0, 20, 3, 38],\n",
       " [42, 20, 0, 39, 2],\n",
       " [40, 3, 39, 0, 33],\n",
       " [36, 38, 2, 33, 0]]"
      ]
     },
     "execution_count": 22,
     "metadata": {},
     "output_type": "execute_result"
    }
   ],
   "source": [
    "n, k = 5, 2\n",
    "\n",
    "weight = [[0 for i in range(n)] for j in range(n)]\n",
    "for i in range(n):\n",
    "    for j in range(i + 1, n):\n",
    "        weight[i][j] = np.random.randint(1, 100)\n",
    "        weight[j][i] = weight[i][j]\n",
    "        \n",
    "weight"
   ]
  },
  {
   "cell_type": "code",
   "execution_count": 23,
   "metadata": {},
   "outputs": [
    {
     "data": {
      "image/png": "[encoded data removed]",
      "text/plain": [
       "<Figure size 432x288 with 1 Axes>"
      ]
     },
     "metadata": {},
     "output_type": "display_data"
    }
   ],
   "source": [
    "clust_pnt = knn(weight, n, k)"
   ]
  },
  {
   "cell_type": "code",
   "execution_count": 24,
   "metadata": {},
   "outputs": [
    {
     "data": {
      "text/plain": [
       "array([1., 1., 0., 1., 0.])"
      ]
     },
     "execution_count": 24,
     "metadata": {},
     "output_type": "execute_result"
    }
   ],
   "source": [
    "clust_pnt"
   ]
  }
 ],
 "metadata": {
  "kernelspec": {
   "display_name": "Python 3",
   "language": "python",
   "name": "python3"
  },
  "language_info": {
   "codemirror_mode": {
    "name": "ipython",
    "version": 3
   },
   "file_extension": ".py",
   "mimetype": "text/x-python",
   "name": "python",
   "nbconvert_exporter": "python",
   "pygments_lexer": "ipython3",
   "version": "3.7.3"
  }
 },
 "nbformat": 4,
 "nbformat_minor": 2
}
