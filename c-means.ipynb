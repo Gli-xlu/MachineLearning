{
 "cells": [
  {
   "cell_type": "code",
   "execution_count": 126,
   "metadata": {},
   "outputs": [],
   "source": [
    "import numpy as np\n",
    "import pandas as pd\n",
    "import seaborn as sns\n",
    "%matplotlib inline\n",
    "import matplotlib.pyplot as plt"
   ]
  },
  {
   "cell_type": "markdown",
   "metadata": {},
   "source": [
    "## Вспомогательные методы"
   ]
  },
  {
   "cell_type": "markdown",
   "metadata": {},
   "source": [
    "Заполнение матрицы рандомными числами"
   ]
  },
  {
   "cell_type": "code",
   "execution_count": 128,
   "metadata": {},
   "outputs": [],
   "source": [
    "def fill_matrix_random(x, y, k):\n",
    "    matrix = np.zeros((len(x), k))\n",
    "    for i in range(len(x)):\n",
    "        matrix[i] = np.random.uniform(0, 1, k)\n",
    "    return matrix"
   ]
  },
  {
   "cell_type": "markdown",
   "metadata": {},
   "source": [
    "Рассчет расстояния между 2 точками"
   ]
  },
  {
   "cell_type": "code",
   "execution_count": 129,
   "metadata": {},
   "outputs": [],
   "source": [
    "def dist(x1, y1, x2, y2):\n",
    "    return np.sqrt((x1-x2)**2+(y1-y2)**2)"
   ]
  },
  {
   "cell_type": "markdown",
   "metadata": {},
   "source": [
    "Заполнение матрицы"
   ]
  },
  {
   "cell_type": "code",
   "execution_count": 130,
   "metadata": {},
   "outputs": [],
   "source": [
    "def fill_matrix(k, x, y, x_c, y_c, m):\n",
    "    new_matrix = np.zeros((len(x), k))\n",
    "    for i in range(len(x)):\n",
    "        for j in range(k):\n",
    "            cl_d = dist(x[i], y[i], x_c[j], y_c[j])\n",
    "            sum_dist = 0\n",
    "            for l in range(k):\n",
    "                lcl_dist = dist(x[i], y[i], x_c[l], y_c[l])\n",
    "                sum_dist += (cl_d / lcl_dist)**(2 / (m - 1))\n",
    "            new_matrix[i, j] = 1 / sum_dist\n",
    "    return new_matrix"
   ]
  },
  {
   "cell_type": "markdown",
   "metadata": {},
   "source": [
    "Отрисовка графика"
   ]
  },
  {
   "cell_type": "code",
   "execution_count": 131,
   "metadata": {},
   "outputs": [],
   "source": [
    "def draw_clusters(df, x_column, y_column, cluster_column, x_c, y_c, title=''):\n",
    "    facet = sns.lmplot(data=df, x=x_column, y=y_column, hue=cluster_column, \n",
    "                   fit_reg=False, legend=True, legend_out=True)\n",
    "    plt.scatter(x_c, y_c, c='darkmagenta', s=150, marker='X')\n",
    "    plt.title(title)"
   ]
  },
  {
   "cell_type": "markdown",
   "metadata": {},
   "source": [
    "Инициализация центров кластеров"
   ]
  },
  {
   "cell_type": "code",
   "execution_count": 132,
   "metadata": {},
   "outputs": [],
   "source": [
    "def create_centers(x, y, k):\n",
    "    x_cc = np.mean(x)\n",
    "    y_cc = np.mean(y)\n",
    "    R = max(dist(x[i], y[i], x_cc, y_cc) for i in range(n))\n",
    "    x_c, y_c = [], []\n",
    "    for i in range(k):\n",
    "        x_c.append(R * np.cos(2 * np.pi * i / k) + x_cc)\n",
    "        y_c.append(R * np.sin(2 * np.pi * i / k) + y_cc)\n",
    "    return x_c, y_c"
   ]
  },
  {
   "cell_type": "markdown",
   "metadata": {},
   "source": [
    "Пересчет центров кластеров"
   ]
  },
  {
   "cell_type": "code",
   "execution_count": 133,
   "metadata": {},
   "outputs": [],
   "source": [
    "def recal_c(x, y, matrix, k, m):\n",
    "    x_c, y_c = [], []\n",
    "    for i in range(k):\n",
    "        s = sum(matrix[j, i]**m for j in range(len(x)) if matrix[j, i] == max(p for p in matrix[j]))\n",
    "        c_x = sum(matrix[j, i]**m * x[j] for j in range(len(x)) if matrix[j, i] == max(p for p in matrix[j]))\n",
    "        c_y = sum(matrix[j, i]**m * y[j] for j in range(len(x)) if matrix[j, i] == max(p for p in matrix[j]))\n",
    "        x_c.append(c_x / s) if s != 0 else 0\n",
    "        y_c.append(c_y / s) if s != 0 else 0\n",
    "    return x_c, y_c"
   ]
  },
  {
   "cell_type": "markdown",
   "metadata": {},
   "source": [
    "Условие окончания алгоритма"
   ]
  },
  {
   "cell_type": "code",
   "execution_count": 134,
   "metadata": {},
   "outputs": [],
   "source": [
    "def can_stop(matrix_old, matrix, k, a):\n",
    "    max_diff = 0\n",
    "    for i in range(len(matrix)):\n",
    "        for j in range(k):\n",
    "            diff = np.abs(matrix[i, j] - matrix_old[i, j])\n",
    "            if diff > max_diff:\n",
    "                max_diff = diff\n",
    "    return max_diff < a"
   ]
  },
  {
   "cell_type": "markdown",
   "metadata": {},
   "source": [
    "Распределение точек по кластерам для графика"
   ]
  },
  {
   "cell_type": "code",
   "execution_count": 135,
   "metadata": {},
   "outputs": [],
   "source": [
    "def get_clusters(matrix):\n",
    "    clusters = []\n",
    "    n = matrix.shape[0]\n",
    "    k = matrix.shape[1]\n",
    "    for i in range(n):\n",
    "        max_v = max(matrix[i])\n",
    "        clusters.append([j for j in range(k) if matrix[i][j] == max_v][0])\n",
    "    return clusters"
   ]
  },
  {
   "cell_type": "markdown",
   "metadata": {},
   "source": [
    "## Основные методы"
   ]
  },
  {
   "cell_type": "markdown",
   "metadata": {},
   "source": [
    "Алгоритм c-means"
   ]
  },
  {
   "cell_type": "code",
   "execution_count": 136,
   "metadata": {},
   "outputs": [],
   "source": [
    "def c_means(k, x, y, m, a, sh_grph):\n",
    "    n = len(x)\n",
    "    matrix = fill_matrix_random(x, y, k)\n",
    "    while True:\n",
    "        x_c, y_c = recal_c(x, y, matrix, k, m)\n",
    "        matrix_new = fill_matrix(k, x, y, x_c, y_c, m)\n",
    "        if can_stop(matrix_new, matrix, k, a):\n",
    "            df = pd.DataFrame()\n",
    "            df['x'] = x\n",
    "            df['y'] = y\n",
    "            df['cluster'] = get_clusters(matrix_new)\n",
    "            draw_clusters(df, 'x', 'y', 'cluster', x_c, y_c, '')\n",
    "            break\n",
    "        matrix = matrix_new\n",
    "    return x_c, y_c, matrix_new"
   ]
  },
  {
   "cell_type": "markdown",
   "metadata": {},
   "source": [
    "Алгоритм c-means с инициализацией начальных точек кластеров"
   ]
  },
  {
   "cell_type": "code",
   "execution_count": 139,
   "metadata": {},
   "outputs": [],
   "source": [
    "def c_means2(k, x, y, m, a, sh_grph):\n",
    "    n = len(x)\n",
    "    x_c, y_c = create_centers(x, y, k)\n",
    "    matrix = fill_matrix_random(x, y, k)\n",
    "    while True:\n",
    "        matrix_new = fill_matrix(k, x, y, x_c, y_c, m)\n",
    "        if can_stop(matrix_new, matrix, k, a):\n",
    "            df = pd.DataFrame()\n",
    "            df['x'] = x\n",
    "            df['y'] = y\n",
    "            df['cluster'] = get_clusters(matrix_new)\n",
    "            draw_clusters(df, 'x', 'y', 'cluster', x_c, y_c, '')\n",
    "            break\n",
    "        matrix = matrix_new\n",
    "        x_c, y_c = recal_c(x, y, matrix, k, m)\n",
    "    return x_c, y_c, matrix_new"
   ]
  },
  {
   "cell_type": "markdown",
   "metadata": {},
   "source": [
    "## Пример"
   ]
  },
  {
   "cell_type": "code",
   "execution_count": 127,
   "metadata": {},
   "outputs": [],
   "source": [
    "n, k = 100, 4\n",
    "m, a = 1.5, 0.1\n",
    "\n",
    "x = np.random.randint(1, 100, n)\n",
    "y = np.random.randint(1, 100, n)"
   ]
  },
  {
   "cell_type": "code",
   "execution_count": 138,
   "metadata": {},
   "outputs": [
    {
     "data": {
      "image/png": "[encoded data removed]",
      "text/plain": [
       "<Figure size 402.375x360 with 1 Axes>"
      ]
     },
     "metadata": {
      "needs_background": "light"
     },
     "output_type": "display_data"
    }
   ],
   "source": [
    "x_c, y_c, matrix_new = c_means(k, x, y, m, a, True)"
   ]
  },
  {
   "cell_type": "code",
   "execution_count": 140,
   "metadata": {},
   "outputs": [
    {
     "data": {
      "image/png": "[encoded data removed]",
      "text/plain": [
       "<Figure size 402.375x360 with 1 Axes>"
      ]
     },
     "metadata": {
      "needs_background": "light"
     },
     "output_type": "display_data"
    }
   ],
   "source": [
    "x_c, y_c, matrix_new = c_means2(k, x, y, m, a, True)"
   ]
  },
  {
   "cell_type": "code",
   "execution_count": null,
   "metadata": {},
   "outputs": [],
   "source": []
  }
 ],
 "metadata": {
  "kernelspec": {
   "display_name": "Python 3",
   "language": "python",
   "name": "python3"
  },
  "language_info": {
   "codemirror_mode": {
    "name": "ipython",
    "version": 3
   },
   "file_extension": ".py",
   "mimetype": "text/x-python",
   "name": "python",
   "nbconvert_exporter": "python",
   "pygments_lexer": "ipython3",
   "version": "3.7.3"
  }
 },
 "nbformat": 4,
 "nbformat_minor": 2
}
